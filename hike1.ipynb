{
 "cells": [
  {
   "cell_type": "markdown",
   "metadata": {},
   "source": [
    "## PEP 8 - Style Guide for Python "
   ]
  },
  {
   "cell_type": "markdown",
   "metadata": {},
   "source": [
    "### Python Code Structure and Format \n",
    "- Import Statements go at the top and each have their own line. \n",
    "- Indent Code using spaces instead of tabs \n",
    "- Use four spaces for each indentation level. \n",
    "- Limit lines to 79 characters(72 for docstrings/comments)\n",
    "- Separate functions and classes by 2 blank lines.\n",
    "- Within Class definitions , methods are separated by 1 blank line.\n",
    "- No spaces around function calls,indexes,keyword arguments.\n",
    "\n",
    "### Python Whitespace Conventions\n",
    "#### Acceptable \n",
    "\n",
    "spam(ham[1],{eggs: 2})\n",
    "fn(arg)\n",
    "dct['key'] = lst[index]\n",
    "x = 1\n",
    "y = 2\n",
    "long_variable = 3\n",
    "hypot2 = x*x + y*y\n",
    "i = i + 1\n",
    "\n",
    "#### Not Acceptable \n",
    "spam( ham[ 1 ],{ eggs: 2})\n",
    "fn (arg)\n",
    "dct ['key'] = lst [index]\n",
    "x   = 1\n",
    "y   = 2"
   ]
  },
  {
   "cell_type": "markdown",
   "metadata": {},
   "source": [
    "### Python Truth Values \n",
    "\n",
    "- Boolean False and None evaluate to False \n",
    "- Numeric Values that evaluate to 0 , are also considered False. Examples : 0,0.0,0j\n",
    "- Decimal and Fraction Zero also considered False.\n",
    "- Empty sequences and collections are also False : '',(),{},[]\n",
    "- Empty Sets and Ranges are False : set(),range(0)\n",
    "- Custom Objects are considered True , unless if they override the bool function and len function which return 0."
   ]
  },
  {
   "cell_type": "code",
   "execution_count": 2,
   "metadata": {},
   "outputs": [
    {
     "name": "stdout",
     "output_type": "stream",
     "text": [
      "False\n"
     ]
    }
   ],
   "source": [
    "class myClass:\n",
    "    def __bool__(self):\n",
    "        return False\n",
    "    def __len__(self):\n",
    "        return 0\n",
    "\n",
    "print(bool(myClass()))"
   ]
  },
  {
   "cell_type": "markdown",
   "metadata": {},
   "source": [
    "### Strings and Bytes \n",
    "- String and Bytes are not directly interchangeable \n",
    "- In Python3 , Strings are a sequence of unicode characters \n",
    "- Bytes are sequences of raw 9-bit values. "
   ]
  },
  {
   "cell_type": "code",
   "execution_count": 3,
   "metadata": {},
   "outputs": [
    {
     "name": "stdout",
     "output_type": "stream",
     "text": [
      "b'PTXb'\n",
      "This is a string\n"
     ]
    }
   ],
   "source": [
    "b = bytes([0x50,0x54,0x58,0x62])\n",
    "print(b)\n",
    "\n",
    "s = \"This is a string\"\n",
    "print(s)"
   ]
  },
  {
   "cell_type": "code",
   "execution_count": 4,
   "metadata": {},
   "outputs": [
    {
     "ename": "TypeError",
     "evalue": "can't concat str to bytes",
     "output_type": "error",
     "traceback": [
      "\u001b[0;31m---------------------------------------------------------------------------\u001b[0m",
      "\u001b[0;31mTypeError\u001b[0m                                 Traceback (most recent call last)",
      "\u001b[0;32m<ipython-input-4-eb333711b794>\u001b[0m in \u001b[0;36m<module>\u001b[0;34m\u001b[0m\n\u001b[0;32m----> 1\u001b[0;31m \u001b[0mprint\u001b[0m\u001b[0;34m(\u001b[0m\u001b[0mb\u001b[0m\u001b[0;34m+\u001b[0m\u001b[0ms\u001b[0m\u001b[0;34m)\u001b[0m\u001b[0;34m\u001b[0m\u001b[0;34m\u001b[0m\u001b[0m\n\u001b[0m",
      "\u001b[0;31mTypeError\u001b[0m: can't concat str to bytes"
     ]
    }
   ],
   "source": [
    "print(b+s)"
   ]
  },
  {
   "cell_type": "code",
   "execution_count": 5,
   "metadata": {},
   "outputs": [
    {
     "name": "stdout",
     "output_type": "stream",
     "text": [
      "This is a stringPTXb\n"
     ]
    }
   ],
   "source": [
    "s2=b.decode('utf-8')\n",
    "print(s+s2)"
   ]
  },
  {
   "cell_type": "code",
   "execution_count": 6,
   "metadata": {},
   "outputs": [
    {
     "name": "stdout",
     "output_type": "stream",
     "text": [
      "b'\\xff\\xfe\\x00\\x00T\\x00\\x00\\x00h\\x00\\x00\\x00i\\x00\\x00\\x00s\\x00\\x00\\x00 \\x00\\x00\\x00i\\x00\\x00\\x00s\\x00\\x00\\x00 \\x00\\x00\\x00a\\x00\\x00\\x00 \\x00\\x00\\x00s\\x00\\x00\\x00t\\x00\\x00\\x00r\\x00\\x00\\x00i\\x00\\x00\\x00n\\x00\\x00\\x00g\\x00\\x00\\x00'\n",
      "b'PTXb\\xff\\xfe\\x00\\x00T\\x00\\x00\\x00h\\x00\\x00\\x00i\\x00\\x00\\x00s\\x00\\x00\\x00 \\x00\\x00\\x00i\\x00\\x00\\x00s\\x00\\x00\\x00 \\x00\\x00\\x00a\\x00\\x00\\x00 \\x00\\x00\\x00s\\x00\\x00\\x00t\\x00\\x00\\x00r\\x00\\x00\\x00i\\x00\\x00\\x00n\\x00\\x00\\x00g\\x00\\x00\\x00'\n"
     ]
    }
   ],
   "source": [
    "b2 = s.encode('utf-32')\n",
    "print(b2)\n",
    "print(b+b2)"
   ]
  },
  {
   "cell_type": "markdown",
   "metadata": {},
   "source": [
    "### Template String Functions \n",
    "This allows you to format strings. "
   ]
  },
  {
   "cell_type": "code",
   "execution_count": 10,
   "metadata": {},
   "outputs": [
    {
     "name": "stdout",
     "output_type": "stream",
     "text": [
      "Normal format string : Simple Format\n",
      "Template string : Template approach\n",
      "Template string : Template substitution using dict\n"
     ]
    }
   ],
   "source": [
    "from string import Template \n",
    "\n",
    "str1 = \"Normal format string : {}\".format('Simple Format')\n",
    "print(str1)\n",
    "\n",
    "templ = Template(\"Template string : ${info}\")\n",
    "str2 = templ.substitute(info=\"Template approach\")\n",
    "print(str2)\n",
    "\n",
    "# Can substitute data using dictionary as well \n",
    "data = {\n",
    "    \"info\": \"Template substitution using dict\"\n",
    "}\n",
    "str3 = templ.substitute(data)\n",
    "print(str3)"
   ]
  },
  {
   "cell_type": "markdown",
   "metadata": {},
   "source": [
    "- Use Format function for style formatting in terms of space and indentation.\n",
    "- Use Template Strings when you have plain value substitution to be done."
   ]
  },
  {
   "cell_type": "markdown",
   "metadata": {},
   "source": [
    "### Built In Utility Functions"
   ]
  },
  {
   "cell_type": "code",
   "execution_count": 4,
   "metadata": {},
   "outputs": [
    {
     "name": "stdout",
     "output_type": "stream",
     "text": [
      "True\n",
      "False\n",
      "Minimum value :  0\n",
      "Maximum value :  5\n",
      "Sum of List :  15\n"
     ]
    }
   ],
   "source": [
    "list1 = [1,2,3,4,5,0]\n",
    "\n",
    "# To return True if any of the values in the list is True \n",
    "print(any(list1))\n",
    "\n",
    "# Return True if all values in the list is True \n",
    "print(all(list1)) # list1 has one of the value as 0 , which is False.\n",
    "\n",
    "# Return the minimum value of the list \n",
    "print(\"Minimum value : \",min(list1))\n",
    "\n",
    "# Return the maximum value of the list \n",
    "print(\"Maximum value : \",max(list1))\n",
    "\n",
    "# Return the sum of the values of the list \n",
    "print(\"Sum of List : \",sum(list1))"
   ]
  }
 ],
 "metadata": {
  "kernelspec": {
   "display_name": "Python 3",
   "language": "python",
   "name": "python3"
  },
  "language_info": {
   "codemirror_mode": {
    "name": "ipython",
    "version": 3
   },
   "file_extension": ".py",
   "mimetype": "text/x-python",
   "name": "python",
   "nbconvert_exporter": "python",
   "pygments_lexer": "ipython3",
   "version": "3.8.5"
  }
 },
 "nbformat": 4,
 "nbformat_minor": 4
}
