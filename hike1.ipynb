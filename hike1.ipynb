{
 "cells": [
  {
   "cell_type": "markdown",
   "metadata": {},
   "source": [
    "## PEP 8 - Style Guide for Python "
   ]
  },
  {
   "cell_type": "markdown",
   "metadata": {},
   "source": [
    "### Python Code Structure and Format \n",
    "- Import Statements go at the top and each have their own line. \n",
    "- Indent Code using spaces instead of tabs \n",
    "- Use four spaces for each indentation level. \n",
    "- Limit lines to 79 characters(72 for docstrings/comments)\n",
    "- Separate functions and classes by 2 blank lines.\n",
    "- Within Class definitions , methods are separated by 1 blank line.\n",
    "- No spaces around function calls,indexes,keyword arguments.\n",
    "\n",
    "### Python Whitespace Conventions\n",
    "#### Acceptable \n",
    "\n",
    "spam(ham[1],{eggs: 2})\n",
    "fn(arg)\n",
    "dct['key'] = lst[index]\n",
    "x = 1\n",
    "y = 2\n",
    "long_variable = 3\n",
    "hypot2 = x*x + y*y\n",
    "i = i + 1\n",
    "\n",
    "#### Not Acceptable \n",
    "spam( ham[ 1 ],{ eggs: 2})\n",
    "fn (arg)\n",
    "dct ['key'] = lst [index]\n",
    "x   = 1\n",
    "y   = 2"
   ]
  },
  {
   "cell_type": "markdown",
   "metadata": {},
   "source": [
    "### Python Truth Values \n",
    "\n",
    "- Boolean False and None evaluate to False \n",
    "- Numeric Values that evaluate to 0 , are also considered False. Examples : 0,0.0,0j\n",
    "- Decimal and Fraction Zero also considered False.\n",
    "- Empty sequences and collections are also False : '',(),{},[]\n",
    "- Empty Sets and Ranges are False : set(),range(0)\n",
    "- Custom Objects are considered True , unless if they override the bool function and len function which return 0."
   ]
  },
  {
   "cell_type": "code",
   "execution_count": 2,
   "metadata": {},
   "outputs": [
    {
     "name": "stdout",
     "output_type": "stream",
     "text": [
      "False\n"
     ]
    }
   ],
   "source": [
    "class myClass:\n",
    "    def __bool__(self):\n",
    "        return False\n",
    "    def __len__(self):\n",
    "        return 0\n",
    "\n",
    "print(bool(myClass()))"
   ]
  },
  {
   "cell_type": "markdown",
   "metadata": {},
   "source": [
    "### Strings and Bytes \n",
    "- String and Bytes are not directly interchangeable \n",
    "- In Python3 , Strings are a sequence of unicode characters \n",
    "- Bytes are sequences of raw 9-bit values. "
   ]
  },
  {
   "cell_type": "code",
   "execution_count": 3,
   "metadata": {},
   "outputs": [
    {
     "name": "stdout",
     "output_type": "stream",
     "text": [
      "b'PTXb'\n",
      "This is a string\n"
     ]
    }
   ],
   "source": [
    "b = bytes([0x50,0x54,0x58,0x62])\n",
    "print(b)\n",
    "\n",
    "s = \"This is a string\"\n",
    "print(s)"
   ]
  },
  {
   "cell_type": "code",
   "execution_count": 4,
   "metadata": {},
   "outputs": [
    {
     "ename": "TypeError",
     "evalue": "can't concat str to bytes",
     "output_type": "error",
     "traceback": [
      "\u001b[0;31m---------------------------------------------------------------------------\u001b[0m",
      "\u001b[0;31mTypeError\u001b[0m                                 Traceback (most recent call last)",
      "\u001b[0;32m<ipython-input-4-eb333711b794>\u001b[0m in \u001b[0;36m<module>\u001b[0;34m\u001b[0m\n\u001b[0;32m----> 1\u001b[0;31m \u001b[0mprint\u001b[0m\u001b[0;34m(\u001b[0m\u001b[0mb\u001b[0m\u001b[0;34m+\u001b[0m\u001b[0ms\u001b[0m\u001b[0;34m)\u001b[0m\u001b[0;34m\u001b[0m\u001b[0;34m\u001b[0m\u001b[0m\n\u001b[0m",
      "\u001b[0;31mTypeError\u001b[0m: can't concat str to bytes"
     ]
    }
   ],
   "source": [
    "print(b+s)"
   ]
  },
  {
   "cell_type": "code",
   "execution_count": 5,
   "metadata": {},
   "outputs": [
    {
     "name": "stdout",
     "output_type": "stream",
     "text": [
      "This is a stringPTXb\n"
     ]
    }
   ],
   "source": [
    "s2=b.decode('utf-8')\n",
    "print(s+s2)"
   ]
  },
  {
   "cell_type": "code",
   "execution_count": 6,
   "metadata": {},
   "outputs": [
    {
     "name": "stdout",
     "output_type": "stream",
     "text": [
      "b'\\xff\\xfe\\x00\\x00T\\x00\\x00\\x00h\\x00\\x00\\x00i\\x00\\x00\\x00s\\x00\\x00\\x00 \\x00\\x00\\x00i\\x00\\x00\\x00s\\x00\\x00\\x00 \\x00\\x00\\x00a\\x00\\x00\\x00 \\x00\\x00\\x00s\\x00\\x00\\x00t\\x00\\x00\\x00r\\x00\\x00\\x00i\\x00\\x00\\x00n\\x00\\x00\\x00g\\x00\\x00\\x00'\n",
      "b'PTXb\\xff\\xfe\\x00\\x00T\\x00\\x00\\x00h\\x00\\x00\\x00i\\x00\\x00\\x00s\\x00\\x00\\x00 \\x00\\x00\\x00i\\x00\\x00\\x00s\\x00\\x00\\x00 \\x00\\x00\\x00a\\x00\\x00\\x00 \\x00\\x00\\x00s\\x00\\x00\\x00t\\x00\\x00\\x00r\\x00\\x00\\x00i\\x00\\x00\\x00n\\x00\\x00\\x00g\\x00\\x00\\x00'\n"
     ]
    }
   ],
   "source": [
    "b2 = s.encode('utf-32')\n",
    "print(b2)\n",
    "print(b+b2)"
   ]
  },
  {
   "cell_type": "markdown",
   "metadata": {},
   "source": [
    "### Template String Functions \n",
    "This allows you to format strings. "
   ]
  },
  {
   "cell_type": "code",
   "execution_count": 10,
   "metadata": {},
   "outputs": [
    {
     "name": "stdout",
     "output_type": "stream",
     "text": [
      "Normal format string : Simple Format\n",
      "Template string : Template approach\n",
      "Template string : Template substitution using dict\n"
     ]
    }
   ],
   "source": [
    "from string import Template \n",
    "\n",
    "str1 = \"Normal format string : {}\".format('Simple Format')\n",
    "print(str1)\n",
    "\n",
    "templ = Template(\"Template string : ${info}\")\n",
    "str2 = templ.substitute(info=\"Template approach\")\n",
    "print(str2)\n",
    "\n",
    "# Can substitute data using dictionary as well \n",
    "data = {\n",
    "    \"info\": \"Template substitution using dict\"\n",
    "}\n",
    "str3 = templ.substitute(data)\n",
    "print(str3)"
   ]
  },
  {
   "cell_type": "markdown",
   "metadata": {},
   "source": [
    "- Use Format function for style formatting in terms of space and indentation.\n",
    "- Use Template Strings when you have plain value substitution to be done."
   ]
  },
  {
   "cell_type": "markdown",
   "metadata": {},
   "source": [
    "### Built In Utility Functions"
   ]
  },
  {
   "cell_type": "code",
   "execution_count": 4,
   "metadata": {},
   "outputs": [
    {
     "name": "stdout",
     "output_type": "stream",
     "text": [
      "True\n",
      "False\n",
      "Minimum value :  0\n",
      "Maximum value :  5\n",
      "Sum of List :  15\n"
     ]
    }
   ],
   "source": [
    "list1 = [1,2,3,4,5,0]\n",
    "\n",
    "# To return True if any of the values in the list is True \n",
    "print(any(list1))\n",
    "\n",
    "# Return True if all values in the list is True \n",
    "print(all(list1)) # list1 has one of the value as 0 , which is False.\n",
    "\n",
    "# Return the minimum value of the list \n",
    "print(\"Minimum value : \",min(list1))\n",
    "\n",
    "# Return the maximum value of the list \n",
    "print(\"Maximum value : \",max(list1))\n",
    "\n",
    "# Return the sum of the values of the list \n",
    "print(\"Sum of List : \",sum(list1))"
   ]
  },
  {
   "cell_type": "markdown",
   "metadata": {},
   "source": [
    "## Iterators \n",
    "\n",
    "Process of Looping is typically referred to as Iteration."
   ]
  },
  {
   "cell_type": "code",
   "execution_count": 2,
   "metadata": {},
   "outputs": [
    {
     "name": "stdout",
     "output_type": "stream",
     "text": [
      "Sun\n",
      "Mon\n",
      "1  ->  Dim\n",
      "2  ->  Lun\n",
      "3  ->  Mar\n",
      "4  ->  Mer\n",
      "5  ->  Jeu\n",
      "6  ->  Ven\n",
      "7  ->  Sam\n",
      "('Sun', 'Dim')\n",
      "('Mon', 'Lun')\n",
      "('Tue', 'Mar')\n",
      "('Wed', 'Mer')\n",
      "('Thu', 'Jeu')\n",
      "('Fri', 'Ven')\n",
      "('Sat', 'Sam')\n",
      "('Sat', 'Sam') Sun  =  Dim  in French\n",
      "('Sat', 'Sam') Mon  =  Lun  in French\n",
      "('Sat', 'Sam') Tue  =  Mar  in French\n",
      "('Sat', 'Sam') Wed  =  Mer  in French\n",
      "('Sat', 'Sam') Thu  =  Jeu  in French\n",
      "('Sat', 'Sam') Fri  =  Ven  in French\n",
      "('Sat', 'Sam') Sat  =  Sam  in French\n"
     ]
    }
   ],
   "source": [
    "days = [\"Sun\",\"Mon\",\"Tue\",\"Wed\",\"Thu\",\"Fri\",\"Sat\"]\n",
    "daysFr = [\"Dim\",\"Lun\",\"Mar\",\"Mer\",\"Jeu\",\"Ven\",\"Sam\"]\n",
    "\n",
    "# To create an iterator over a collection of sequence \n",
    "i = iter(days)\n",
    "# To get the next item \n",
    "print(next(i))\n",
    "print(next(i))\n",
    "\n",
    "# To get index of element , along with the value , use Enumerate \n",
    "for idx,val in enumerate(daysFr,start=1):\n",
    "    print(idx,' -> ',val)\n",
    "\n",
    "# Zip is used to combine sequences \n",
    "for i in zip(days,daysFr):\n",
    "    # i is a tuple with elements from both the sequences \n",
    "    print(i)\n",
    "\n",
    "# Enumerate and Zip \n",
    "for idx,val in enumerate(zip(days,daysFr)):\n",
    "    print(i,val[0],\" = \",val[1],\" in French\")\n",
    "\n",
    "# In Zip , if one of the sequence is shorter , zip terminates at end of the shortest sequence."
   ]
  },
  {
   "cell_type": "markdown",
   "metadata": {},
   "source": [
    "### Transforms "
   ]
  },
  {
   "cell_type": "code",
   "execution_count": 9,
   "metadata": {},
   "outputs": [
    {
     "name": "stdout",
     "output_type": "stream",
     "text": [
      "[2, 4, 6, 8, 10]\n",
      "['D', 'G', 'H', 'I', 'J', 'P', 'Q', 'R', 'S', 'Z']\n",
      "[1, 4, 9, 16, 25, 36, 49, 64, 81, 100]\n",
      "['D', 'D', 'C', 'C', 'B', 'B', 'A', 'A']\n"
     ]
    }
   ],
   "source": [
    "nums = [1,2,3,4,5,6,7,8,9,10]\n",
    "\n",
    "\n",
    "# To filter out the odd numbers from the nums list \n",
    "def filterFunc(num):\n",
    "    if num % 2 == 0:\n",
    "        return True\n",
    "    return False\n",
    "evens = list(filter(filterFunc,nums))\n",
    "print(evens)\n",
    "\n",
    "chars = \"abcDefGHIJklmnoPQRStuvwxyZ\"\n",
    "\n",
    "# To filter out the Upper Ca\n",
    "def filterUpperCase(ch):\n",
    "    if ch.isupper():\n",
    "        return True\n",
    "    return False\n",
    "\n",
    "uppers = list(filter(filterUpperCase,chars))\n",
    "print(uppers)\n",
    "\n",
    "# Map function is to produce an iterator that applies the specific function on each element \n",
    "def squareFunc(ch):\n",
    "    return (ch * ch)\n",
    "\n",
    "squares = list(map(squareFunc,nums))\n",
    "print(squares)\n",
    "\n",
    "# Map can also be used to map 1 value to another \n",
    "grades = (81,89,94,78,61,66,99,74)\n",
    "# Converting grades to letters \n",
    "grades = sorted(grades)\n",
    "\n",
    "def toGrade(gr):\n",
    "    if (gr >= 90):\n",
    "        return \"A\"\n",
    "    elif (gr >= 80):\n",
    "        return \"B\"\n",
    "    elif (gr >= 70):\n",
    "        return \"C\"\n",
    "    elif (gr >= 60):\n",
    "        return \"D\"\n",
    "    else:\n",
    "        return \"F\"\n",
    "    \n",
    "letters = list(map(toGrade,grades))\n",
    "print(letters)\n",
    "\n",
    "\n"
   ]
  },
  {
   "cell_type": "markdown",
   "metadata": {},
   "source": [
    "## Itertools \n",
    "\n",
    "#### This is a Python Module that helps with creation of iterators for common scenarios. \n"
   ]
  },
  {
   "cell_type": "code",
   "execution_count": 13,
   "metadata": {},
   "outputs": [
    {
     "name": "stdout",
     "output_type": "stream",
     "text": [
      "Jim\n",
      "Jack\n",
      "Joe\n",
      "Jim\n",
      "\n",
      "200\n",
      "250\n",
      "300\n",
      "350\n",
      "400\n",
      "\n",
      "[10, 30, 60, 100, 150, 210, 280, 360, 450, 550]\n",
      "[10, 10, 10, 10, 10, 10, 10, 10, 10, 10]\n",
      "['Jim', 'Jack', 'Joe', 10, 20, 30, 40, 50, 60, 70, 80, 90, 100]\n"
     ]
    }
   ],
   "source": [
    "import itertools as it\n",
    "#### Infinite Iterators : Iterators that simply generate a value and never ends.\n",
    "\n",
    "#### Cycle : An infinite iterator that simply cycles over a sequence \n",
    "seq1 = [\"Jim\",\"Jack\",\"Joe\"]\n",
    "cycleIt = it.cycle(seq1)\n",
    "print(next(cycleIt))\n",
    "print(next(cycleIt))\n",
    "print(next(cycleIt))\n",
    "print(next(cycleIt))\n",
    "\n",
    "print()\n",
    "\n",
    "#### Counter : An iterator that simply acts as a counter \n",
    "ct = it.count(200,50)\n",
    "print(next(ct))\n",
    "print(next(ct))\n",
    "print(next(ct))\n",
    "print(next(ct))\n",
    "print(next(ct))\n",
    "print()\n",
    "\n",
    "#### Accumulate : An iterator that accumulates values \n",
    "seq2 = [10,20,30,40,50,60,70,80,90,100]\n",
    "acc = it.accumulate(seq2)\n",
    "print(list(acc))\n",
    "\n",
    "# By default , accumulate performs addition. We can change that to any suitable function \n",
    "acc = it.accumulate(seq2,min)\n",
    "print(list(acc))\n",
    "\n",
    "#### Chain : Creates an iterator that connect sequences together \n",
    "ch = it.chain(seq1,seq2)\n",
    "print(list(ch))\n",
    "\n"
   ]
  },
  {
   "cell_type": "markdown",
   "metadata": {},
   "source": [
    "### Documentation Strings \n",
    "\n",
    "- Good idea to write documentation strings for your functions,classes and modules \n",
    "\n",
    "##### Best Practices \n",
    "- Enclose docstrings in triple quotes \n",
    "- First line should summarize the functionality \n",
    "- Modules : List important classes,functions,exceptions\n",
    "- Classes : List important methods,enums,custom exceptions\n",
    "- Functions : \n",
    "    - List parameters and explain each,one per line . Including optional parameters as well.\n",
    "    - If there's a return value,then list it. Otherwise omit\n",
    "    - If the function raises exceptions,mention those as well.\n",
    "- PEP 257 , provides the conventions for DocStrings.\n"
   ]
  },
  {
   "cell_type": "code",
   "execution_count": 15,
   "metadata": {},
   "outputs": [
    {
     "name": "stdout",
     "output_type": "stream",
     "text": [
      "map(func, *iterables) --> map object\n",
      "\n",
      "Make an iterator that computes the function using arguments from\n",
      "each of the iterables.  Stops when the shortest iterable is exhausted.\n",
      "\n",
      "This module implements specialized container datatypes providing\n",
      "alternatives to Python's general purpose built-in containers, dict,\n",
      "list, set, and tuple.\n",
      "\n",
      "* namedtuple   factory function for creating tuple subclasses with named fields\n",
      "* deque        list-like container with fast appends and pops on either end\n",
      "* ChainMap     dict-like class for creating a single view of multiple mappings\n",
      "* Counter      dict subclass for counting hashable objects\n",
      "* OrderedDict  dict subclass that remembers the order entries were added\n",
      "* defaultdict  dict subclass that calls a factory function to supply missing values\n",
      "* UserDict     wrapper around dictionary objects for easier dict subclassing\n",
      "* UserList     wrapper around list objects for easier list subclassing\n",
      "* UserString   wrapper around string objects for easier string subclassing\n",
      "\n",
      "\n",
      "\n"
     ]
    }
   ],
   "source": [
    "# To show the doc for map function \n",
    "print(map.__doc__)\n",
    "print()\n",
    "\n",
    "# To show the doc for modules \n",
    "import collections\n",
    "print(collections.__doc__)\n",
    "print()"
   ]
  },
  {
   "cell_type": "code",
   "execution_count": 17,
   "metadata": {},
   "outputs": [
    {
     "name": "stdout",
     "output_type": "stream",
     "text": [
      "raiseToThePower(num,power) --> Raises the given num to the power given by power\n",
      "    \n",
      "    Parameters:\n",
      "    num : Number for which to raise \n",
      "    power : Exponent \n",
      "    \n",
      "    Returns number raised to power.\n",
      "    \n"
     ]
    }
   ],
   "source": [
    "# Creating doc strings \n",
    "def raiseToThePower(num,power=2):\n",
    "    \"\"\"raiseToThePower(num,power) --> Raises the given num to the power given by power\n",
    "    \n",
    "    Parameters:\n",
    "    num : Number for which to raise \n",
    "    power : Exponent \n",
    "    \n",
    "    Returns number raised to power.\n",
    "    \"\"\"\n",
    "    return num ** power\n",
    "\n",
    "print(raiseToThePower.__doc__)"
   ]
  },
  {
   "cell_type": "markdown",
   "metadata": {},
   "source": [
    "### Variable Arguments \n",
    "\n",
    "Define functions that can take variable number of parameters "
   ]
  },
  {
   "cell_type": "code",
   "execution_count": 18,
   "metadata": {},
   "outputs": [
    {
     "name": "stdout",
     "output_type": "stream",
     "text": [
      "15\n",
      "15\n"
     ]
    }
   ],
   "source": [
    "# Function that takes variable arguments \n",
    "def summation(*args):\n",
    "    result = 0\n",
    "    for arg in args:\n",
    "        result += arg\n",
    "    return result\n",
    "\n",
    "print(summation(1,2,3,4,5))\n",
    "\n",
    "# To pass a list , prefix list with * \n",
    "lt = [1,2,3,4,5]\n",
    "print(summation(*lt))"
   ]
  },
  {
   "cell_type": "markdown",
   "metadata": {},
   "source": [
    "Variables arguments add flexibility to functions . but are useful when the number of parameters that the function expects is relatively small. Need to think ahead as to how the code will be used."
   ]
  },
  {
   "cell_type": "markdown",
   "metadata": {},
   "source": [
    "### Lambda Functions \n",
    "\n",
    "- Small , anonymous functions \n",
    "- Can be passed as arguments where you need a function \n",
    "- Typically used in place just when needed\n",
    "- Helps reduce the complexity as well as readability of the code.\n",
    "- Defined as \n",
    "    ```python\n",
    "    lambda (parameters) : (expression)\n",
    "    ```"
   ]
  },
  {
   "cell_type": "code",
   "execution_count": 21,
   "metadata": {},
   "outputs": [
    {
     "name": "stdout",
     "output_type": "stream",
     "text": [
      "[0.0, 18.333333333333332, 37.77777777777778, 100.0]\n",
      "[0.0, 18.333333333333332, 37.77777777777778, 100.0]\n"
     ]
    }
   ],
   "source": [
    "def convertToCelsius(temp):\n",
    "    return (temp - 32) * 5/9\n",
    "\n",
    "ftemps = [32,65,100,212]\n",
    "\n",
    "# To convert ftemps to Celsius \n",
    "\n",
    "# Without using Lambda function \n",
    "ctemps = list(map(convertToCelsius,ftemps))\n",
    "print(ctemps)\n",
    "\n",
    "# Using Lambda function \n",
    "ctemps = list(map(lambda t:(t-32)* 5/9,ftemps))\n",
    "print(ctemps)\n",
    "    \n",
    "    "
   ]
  },
  {
   "cell_type": "markdown",
   "metadata": {},
   "source": [
    "### Keyword Only Arguments \n",
    "\n",
    "As Python accepts default arguments that appear after the positional arguments , there are situations where you want to accept keyword only arguments to ensure that user understands the significance as well as the readability of the code . For Python provides a way to incorporate this. \n",
    "\n",
    "In the parameter list, * separates the positional arguments from the keyword only arguments."
   ]
  },
  {
   "cell_type": "code",
   "execution_count": 23,
   "metadata": {},
   "outputs": [
    {
     "name": "stdout",
     "output_type": "stream",
     "text": [
      "INFO\n"
     ]
    }
   ],
   "source": [
    "def someFunc(arg1,arg2,*,loglevel=\"DEBUG\"):\n",
    "    print(loglevel)\n",
    "\n",
    "# This will throw error as for 3 parameter , use has to pass it as keyword\n",
    "#someFunc(1,2,\"INFO\")\n",
    "\n",
    "# Valid function call \n",
    "someFunc(1,2,loglevel=\"INFO\")"
   ]
  }
 ],
 "metadata": {
  "kernelspec": {
   "display_name": "Python 3",
   "language": "python",
   "name": "python3"
  },
  "language_info": {
   "codemirror_mode": {
    "name": "ipython",
    "version": 3
   },
   "file_extension": ".py",
   "mimetype": "text/x-python",
   "name": "python",
   "nbconvert_exporter": "python",
   "pygments_lexer": "ipython3",
   "version": "3.8.5"
  }
 },
 "nbformat": 4,
 "nbformat_minor": 4
}
